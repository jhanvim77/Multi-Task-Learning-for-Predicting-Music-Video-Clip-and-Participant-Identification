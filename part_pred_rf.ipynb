{
 "cells": [
  {
   "cell_type": "markdown",
   "metadata": {},
   "source": [
    "participant prediction->random forest 72.66%"
   ]
  },
  {
   "cell_type": "code",
   "execution_count": 1,
   "metadata": {},
   "outputs": [],
   "source": [
    "import os\n",
    "import scipy.io\n",
    "import numpy as np\n",
    "import pandas as pd\n",
    "from sklearn.preprocessing import StandardScaler\n",
    "from sklearn.ensemble import RandomForestClassifier\n",
    "from sklearn.model_selection import train_test_split\n",
    "from sklearn.metrics import accuracy_score\n",
    "import seaborn as sns\n",
    "import matplotlib.pyplot as plt\n",
    "import tensorflow as tf\n",
    "from tensorflow.keras import layers, models"
   ]
  },
  {
   "cell_type": "code",
   "execution_count": 2,
   "metadata": {},
   "outputs": [],
   "source": [
    "# Define the folder path\n",
    "folder_path = \"D:\\\\IITGN\\\\DEAP\\\\data_preprocessed_matlab\"\n",
    "\n",
    "# Initialize lists to store data and labels\n",
    "data_list = []\n",
    "labels_list = []\n",
    "\n",
    "# Iterate over each file in the directory\n",
    "for i in range(1, 33):  # Assuming files are named from s01.mat to s32.mat\n",
    "    file_path = os.path.join(folder_path, f\"s{i:02d}.mat\")\n",
    "    mat = scipy.io.loadmat(file_path)\n",
    "    \n",
    "    # Extract the EEG data (40 songs x 40 channels x 8064 data points)\n",
    "    eeg_data = mat['data']  # Adjust 'data' if the key is different\n",
    "    \n",
    "    # Only take the relevant 60 seconds (from 3 to 63 seconds)\n",
    "    eeg_data = eeg_data[:, :, 384:]  # 3 seconds x 128 points = 384 data points\n",
    "    \n",
    "    # Reshape to (40 songs x (40 channels x 7680 data points))\n",
    "    reshaped_data = eeg_data.reshape(40, -1)\n",
    "    \n",
    "    # Append data and label\n",
    "    data_list.append(reshaped_data)\n",
    "    labels_list.append(np.full(40, i))  # Label for each song as participant ID\n",
    "\n",
    "# Convert lists to numpy arrays\n",
    "X = np.vstack(data_list)\n",
    "y = np.hstack(labels_list)\n"
   ]
  },
  {
   "cell_type": "code",
   "execution_count": 4,
   "metadata": {},
   "outputs": [],
   "source": [
    "# Initialize the scaler\n",
    "scaler = StandardScaler()\n",
    "\n",
    "# Fit and transform the data\n",
    "X_scaled = scaler.fit_transform(X)\n"
   ]
  },
  {
   "cell_type": "code",
   "execution_count": 5,
   "metadata": {},
   "outputs": [
    {
     "name": "stdout",
     "output_type": "stream",
     "text": [
      "Accuracy: 72.66%\n"
     ]
    }
   ],
   "source": [
    "# Split the data into training and testing sets\n",
    "X_train, X_test, y_train, y_test = train_test_split(X_scaled, y, test_size=0.2, random_state=42, stratify=y)\n",
    "\n",
    "# Initialize and train the Random Forest Classifier\n",
    "clf = RandomForestClassifier(n_estimators=100, random_state=42)\n",
    "clf.fit(X_train, y_train)\n",
    "\n",
    "# Predict and evaluate the model\n",
    "y_pred = clf.predict(X_test)\n",
    "accuracy = accuracy_score(y_test, y_pred)\n",
    "\n",
    "print(f'Accuracy: {accuracy * 100:.2f}%')\n"
   ]
  }
 ],
 "metadata": {
  "kernelspec": {
   "display_name": "base",
   "language": "python",
   "name": "python3"
  },
  "language_info": {
   "codemirror_mode": {
    "name": "ipython",
    "version": 3
   },
   "file_extension": ".py",
   "mimetype": "text/x-python",
   "name": "python",
   "nbconvert_exporter": "python",
   "pygments_lexer": "ipython3",
   "version": "3.11.7"
  }
 },
 "nbformat": 4,
 "nbformat_minor": 2
}
